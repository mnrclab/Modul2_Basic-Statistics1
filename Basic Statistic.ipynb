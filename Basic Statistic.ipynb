{
 "cells": [
  {
   "cell_type": "markdown",
   "metadata": {},
   "source": [
    "# **Basic Statistic**"
   ]
  },
  {
   "cell_type": "markdown",
   "metadata": {},
   "source": [
    "Statistics can be a powerful tool when performing the art of Data Science (DS). From a high-level view, statistics is the use of mathematics to perform technical analysis of data. A basic visualisation such as a bar chart might give you some high-level information, but with statistics we get to operate on the data in a much more information-driven and targeted way. The math involved helps us form concrete conclusions about our data rather than just guesstimating.\n",
    "\n",
    "Using statistics, we can gain deeper and more fine grained insights into how exactly our data is structured and based on that structure how we can optimally apply other data science techniques to get even more information. "
   ]
  },
  {
   "cell_type": "markdown",
   "metadata": {},
   "source": [
    "## ``Topic:``\n",
    "\n",
    "#### 1. **Descriptive Analysis** \n",
    "#### 2. **Probability Distribution**\n",
    "#### 3. **Correlation**\n",
    "\n",
    "<hr>"
   ]
  },
  {
   "cell_type": "code",
   "execution_count": 1,
   "metadata": {},
   "outputs": [],
   "source": [
    "import statistics as st\n",
    "import pandas as pd\n",
    "import numpy as np"
   ]
  },
  {
   "cell_type": "markdown",
   "metadata": {},
   "source": [
    "<hr>\n",
    "\n",
    "# **Descriptive Statistics**\n",
    "\n",
    "## 1. Central Tendency\n",
    "Python Central tendency characterizes one central value for the entire distribution. Measures under this include mean, median, and mode."
   ]
  },
  {
   "cell_type": "markdown",
   "metadata": {},
   "source": [
    "### **a. mean()**\n",
    "This function returns the arithmetic average of the data it operates on. \n",
    "``Data terdistribusi normal dan tidak ada outliers.``\n",
    "``Seluruh data dijumlahkan, kemudian dibagi dengan jumlah data.``"
   ]
  },
  {
   "cell_type": "code",
   "execution_count": 63,
   "metadata": {},
   "outputs": [
    {
     "data": {
      "text/plain": [
       "4.5"
      ]
     },
     "execution_count": 63,
     "metadata": {},
     "output_type": "execute_result"
    }
   ],
   "source": [
    "data = [1,2,3,5,7,9]\n",
    "st.mean(data)"
   ]
  },
  {
   "cell_type": "markdown",
   "metadata": {},
   "source": [
    "### **b. mode()**\n",
    "This function returns the most common value in a set of data. This gives us a great idea of where the center lies. ``Lebih sering dipakai dalam konteks data categorical``."
   ]
  },
  {
   "cell_type": "code",
   "execution_count": 3,
   "metadata": {},
   "outputs": [
    {
     "data": {
      "text/plain": [
       "7"
      ]
     },
     "execution_count": 3,
     "metadata": {},
     "output_type": "execute_result"
    }
   ],
   "source": [
    "data1 = [1,2,3,5,7,9,7,2,7,6]\n",
    "st.mode(data1)"
   ]
  },
  {
   "cell_type": "code",
   "execution_count": 72,
   "metadata": {},
   "outputs": [
    {
     "data": {
      "text/plain": [
       "2"
      ]
     },
     "execution_count": 72,
     "metadata": {},
     "output_type": "execute_result"
    }
   ],
   "source": [
    "jns_kelamin = [1,1,1,2,2,2,2] # code jenis kelamin 1=laki-laki, 2 = perempuan\n",
    "st.mode(jns_kelamin)"
   ]
  },
  {
   "cell_type": "markdown",
   "metadata": {},
   "source": [
    "### **c. median()**\n",
    "For data of odd length, this returns the middle item; for that of even length, it returns the average of the two middle items. ``Data kurang/tidak berdistribusi normal atau ada data outliers (data yang terlalu menyimpang/ekstrim). Cara menghitung: data diurutkan, kemudian diambil titik tengahnya (50% dari urutan)``"
   ]
  },
  {
   "cell_type": "code",
   "execution_count": 68,
   "metadata": {},
   "outputs": [
    {
     "data": {
      "text/plain": [
       "6"
      ]
     },
     "execution_count": 68,
     "metadata": {},
     "output_type": "execute_result"
    }
   ],
   "source": [
    "st.median([1,2,3,4,5,6,7,8,9,10, 1000])"
   ]
  },
  {
   "cell_type": "markdown",
   "metadata": {},
   "source": [
    "### **d. harmonic_mean()**\n",
    "\n",
    "This function returns the harmonic mean of the data. For three values a, b, and c, the harmonic mean is-\n",
    "3/(1/a + 1/b +1/c)\n",
    "It is a measure of the center; one such example would be speed."
   ]
  },
  {
   "cell_type": "code",
   "execution_count": 73,
   "metadata": {},
   "outputs": [
    {
     "data": {
      "text/plain": [
       "1.6363636363636365"
      ]
     },
     "execution_count": 73,
     "metadata": {},
     "output_type": "execute_result"
    }
   ],
   "source": [
    "st.harmonic_mean([1,2,3])"
   ]
  },
  {
   "cell_type": "markdown",
   "metadata": {},
   "source": [
    "For the same set of data, the arithmetic mean would give us a value of 5.233333333333333."
   ]
  },
  {
   "cell_type": "markdown",
   "metadata": {},
   "source": [
    "### **e. median_low()**\n",
    "\n",
    "When the data is of an even length, this provides us the low median of the data. Otherwise, it returns the middle value. ``konteksnya = jumlah datanya genap, dan ingin mencari median yang rendahnya``"
   ]
  },
  {
   "cell_type": "code",
   "execution_count": 74,
   "metadata": {},
   "outputs": [
    {
     "data": {
      "text/plain": [
       "2.5"
      ]
     },
     "execution_count": 74,
     "metadata": {},
     "output_type": "execute_result"
    }
   ],
   "source": [
    "# contoh pakai median biasa\n",
    "st.median([1,2,3,4])"
   ]
  },
  {
   "cell_type": "code",
   "execution_count": 75,
   "metadata": {},
   "outputs": [
    {
     "data": {
      "text/plain": [
       "2"
      ]
     },
     "execution_count": 75,
     "metadata": {},
     "output_type": "execute_result"
    }
   ],
   "source": [
    "# contoh pakai median_low\n",
    "st.median_low([1,2,3,4])"
   ]
  },
  {
   "cell_type": "markdown",
   "metadata": {},
   "source": [
    "### **f. median_high()**\n",
    "\n",
    "Like median_low, this returns the high median when the data is of an even length. Otherwise, it returns the middle value. ``konteksnya = jumlah datanya genap, dan ingin mencari median yang tertinggi``. "
   ]
  },
  {
   "cell_type": "code",
   "execution_count": 76,
   "metadata": {},
   "outputs": [
    {
     "data": {
      "text/plain": [
       "3"
      ]
     },
     "execution_count": 76,
     "metadata": {},
     "output_type": "execute_result"
    }
   ],
   "source": [
    "st.median_high([1,2,3,4])"
   ]
  },
  {
   "cell_type": "markdown",
   "metadata": {},
   "source": [
    "<hr>\n",
    "\n",
    "## 2. Dispersion\n",
    "\n",
    "``Dispersion/spread gives us an idea of how the data strays from the typical value.``\n",
    "\n",
    "Python Dispersion is the term for a practice that characterizes how apart the members of the distribution are from the center and from each other. Variance/Standard Deviation is one such measure of variability."
   ]
  },
  {
   "cell_type": "markdown",
   "metadata": {},
   "source": [
    "### **a. variance()**\n",
    "\n",
    "This returns the variance of the sample. This is the second moment about the mean and a larger value denotes a rather spread-out set of data. You can use this when your data is a sample out of a population."
   ]
  },
  {
   "cell_type": "code",
   "execution_count": 10,
   "metadata": {},
   "outputs": [
    {
     "data": {
      "text/plain": [
       "7.433333333333334"
      ]
     },
     "execution_count": 10,
     "metadata": {},
     "output_type": "execute_result"
    }
   ],
   "source": [
    "st.variance(data1)"
   ]
  },
  {
   "cell_type": "markdown",
   "metadata": {},
   "source": [
    "### **b. pvariance()**\n",
    "\n",
    "This returns the population variance of data. Use this to calculate variance from an entire population."
   ]
  },
  {
   "cell_type": "code",
   "execution_count": 11,
   "metadata": {},
   "outputs": [
    {
     "data": {
      "text/plain": [
       "6.69"
      ]
     },
     "execution_count": 11,
     "metadata": {},
     "output_type": "execute_result"
    }
   ],
   "source": [
    "st.pvariance(data1)"
   ]
  },
  {
   "cell_type": "markdown",
   "metadata": {},
   "source": [
    "### **c. stdev()**\n",
    "\n",
    "This returns the standard deviation for the sample. This is equal to the square root of the sample variance."
   ]
  },
  {
   "cell_type": "code",
   "execution_count": 12,
   "metadata": {},
   "outputs": [
    {
     "data": {
      "text/plain": [
       "2.7264140062238043"
      ]
     },
     "execution_count": 12,
     "metadata": {},
     "output_type": "execute_result"
    }
   ],
   "source": [
    "st.stdev(data1)"
   ]
  },
  {
   "cell_type": "markdown",
   "metadata": {},
   "source": [
    "### **d. pstdev()**\n",
    "\n",
    "This returns the population standard deviation. This is the square root of population variance."
   ]
  },
  {
   "cell_type": "code",
   "execution_count": 13,
   "metadata": {},
   "outputs": [
    {
     "data": {
      "text/plain": [
       "2.5865034312755126"
      ]
     },
     "execution_count": 13,
     "metadata": {},
     "output_type": "execute_result"
    }
   ],
   "source": [
    "st.pstdev(data1)"
   ]
  },
  {
   "cell_type": "markdown",
   "metadata": {},
   "source": [
    "<hr>\n",
    "\n",
    "## **Pandas with Descriptive Statistics in Python**"
   ]
  },
  {
   "cell_type": "code",
   "execution_count": 14,
   "metadata": {},
   "outputs": [],
   "source": [
    "df = pd.DataFrame(data1)"
   ]
  },
  {
   "cell_type": "code",
   "execution_count": 15,
   "metadata": {},
   "outputs": [
    {
     "data": {
      "text/plain": [
       "0    4.9\n",
       "dtype: float64"
      ]
     },
     "execution_count": 15,
     "metadata": {},
     "output_type": "execute_result"
    }
   ],
   "source": [
    "# mean\n",
    "df.mean()"
   ]
  },
  {
   "cell_type": "code",
   "execution_count": 16,
   "metadata": {},
   "outputs": [
    {
     "data": {
      "text/html": [
       "<div>\n",
       "<style scoped>\n",
       "    .dataframe tbody tr th:only-of-type {\n",
       "        vertical-align: middle;\n",
       "    }\n",
       "\n",
       "    .dataframe tbody tr th {\n",
       "        vertical-align: top;\n",
       "    }\n",
       "\n",
       "    .dataframe thead th {\n",
       "        text-align: right;\n",
       "    }\n",
       "</style>\n",
       "<table border=\"1\" class=\"dataframe\">\n",
       "  <thead>\n",
       "    <tr style=\"text-align: right;\">\n",
       "      <th></th>\n",
       "      <th>0</th>\n",
       "    </tr>\n",
       "  </thead>\n",
       "  <tbody>\n",
       "    <tr>\n",
       "      <th>0</th>\n",
       "      <td>7</td>\n",
       "    </tr>\n",
       "  </tbody>\n",
       "</table>\n",
       "</div>"
      ],
      "text/plain": [
       "   0\n",
       "0  7"
      ]
     },
     "execution_count": 16,
     "metadata": {},
     "output_type": "execute_result"
    }
   ],
   "source": [
    "# mode\n",
    "df.mode()"
   ]
  },
  {
   "cell_type": "code",
   "execution_count": 17,
   "metadata": {},
   "outputs": [
    {
     "data": {
      "text/plain": [
       "0    2.726414\n",
       "dtype: float64"
      ]
     },
     "execution_count": 17,
     "metadata": {},
     "output_type": "execute_result"
    }
   ],
   "source": [
    "# standard deviation\n",
    "df.std()"
   ]
  },
  {
   "cell_type": "code",
   "execution_count": 18,
   "metadata": {},
   "outputs": [
    {
     "data": {
      "text/html": [
       "<div>\n",
       "<style scoped>\n",
       "    .dataframe tbody tr th:only-of-type {\n",
       "        vertical-align: middle;\n",
       "    }\n",
       "\n",
       "    .dataframe tbody tr th {\n",
       "        vertical-align: top;\n",
       "    }\n",
       "\n",
       "    .dataframe thead th {\n",
       "        text-align: right;\n",
       "    }\n",
       "</style>\n",
       "<table border=\"1\" class=\"dataframe\">\n",
       "  <thead>\n",
       "    <tr style=\"text-align: right;\">\n",
       "      <th></th>\n",
       "      <th>0</th>\n",
       "    </tr>\n",
       "  </thead>\n",
       "  <tbody>\n",
       "    <tr>\n",
       "      <th>count</th>\n",
       "      <td>10.000000</td>\n",
       "    </tr>\n",
       "    <tr>\n",
       "      <th>mean</th>\n",
       "      <td>4.900000</td>\n",
       "    </tr>\n",
       "    <tr>\n",
       "      <th>std</th>\n",
       "      <td>2.726414</td>\n",
       "    </tr>\n",
       "    <tr>\n",
       "      <th>min</th>\n",
       "      <td>1.000000</td>\n",
       "    </tr>\n",
       "    <tr>\n",
       "      <th>25%</th>\n",
       "      <td>2.250000</td>\n",
       "    </tr>\n",
       "    <tr>\n",
       "      <th>50%</th>\n",
       "      <td>5.500000</td>\n",
       "    </tr>\n",
       "    <tr>\n",
       "      <th>75%</th>\n",
       "      <td>7.000000</td>\n",
       "    </tr>\n",
       "    <tr>\n",
       "      <th>max</th>\n",
       "      <td>9.000000</td>\n",
       "    </tr>\n",
       "  </tbody>\n",
       "</table>\n",
       "</div>"
      ],
      "text/plain": [
       "               0\n",
       "count  10.000000\n",
       "mean    4.900000\n",
       "std     2.726414\n",
       "min     1.000000\n",
       "25%     2.250000\n",
       "50%     5.500000\n",
       "75%     7.000000\n",
       "max     9.000000"
      ]
     },
     "execution_count": 18,
     "metadata": {},
     "output_type": "execute_result"
    }
   ],
   "source": [
    "# show all descriptive analysis\n",
    "df.describe()"
   ]
  },
  {
   "cell_type": "markdown",
   "metadata": {},
   "source": [
    "<hr>\n",
    "\n",
    "## **Take Class Exercise**: Analyze Salaries Dataset\n",
    "\n",
    "### ``Show your code and answer this questions!``\n",
    "### Open Salaries.csv dan Create DataFrame\n",
    "\n",
    "#### 1. Berapa nilai tengah ``BasePay`` di tahun ``2013``?\n",
    "#### 2. Berapa rata-rata ``OtherPay`` di tahun ``2014``?\n",
    "#### 3. Berapa rata-rata ``Benefits`` pada karyawan yang ``TotalPay``-nya di atas rata-rata karyawan di tahun 2014?\n",
    "#### 4. Berapa nilai standart deviasi ``TotalPay`` pada karyawan ``Transit Operator``?\n",
    "#### 5. Siapa 5 orang yang berprofesi ``Special Nurse`` dan ``BasePay``-nya di atas rata-rata?\n",
    "#### 6. Sebutkan 5 profesi (``JobTitle``) dengan gaji tertinggi (``TotalPay``)?\n",
    "#### 7. Berapa nilai variance ``BasePay`` karyawan ``Public Svc Aide-Public Works`` di tahun 2014?\n",
    "#### 8. Siapa 5 orang yang berprofesi ``Police Officer 3`` dengan ``TotalPay`` terendah?\n",
    "#### 9. Berapa standart deviasi ``BasePay`` karyawan ``Registered Nurse`` di tahun 2012 yang ``Benefits``-nya di atas rata-rata?\n",
    "#### 10. Profesi apa yang paling banyak muncul (mode) dengan nilai ``BasePay`` dan ``Benefits``-nya di atas rata-rata? "
   ]
  },
  {
   "cell_type": "code",
   "execution_count": 2,
   "metadata": {},
   "outputs": [
    {
     "data": {
      "text/html": [
       "<div>\n",
       "<style scoped>\n",
       "    .dataframe tbody tr th:only-of-type {\n",
       "        vertical-align: middle;\n",
       "    }\n",
       "\n",
       "    .dataframe tbody tr th {\n",
       "        vertical-align: top;\n",
       "    }\n",
       "\n",
       "    .dataframe thead th {\n",
       "        text-align: right;\n",
       "    }\n",
       "</style>\n",
       "<table border=\"1\" class=\"dataframe\">\n",
       "  <thead>\n",
       "    <tr style=\"text-align: right;\">\n",
       "      <th></th>\n",
       "      <th>Id</th>\n",
       "      <th>EmployeeName</th>\n",
       "      <th>JobTitle</th>\n",
       "      <th>BasePay</th>\n",
       "      <th>OvertimePay</th>\n",
       "      <th>OtherPay</th>\n",
       "      <th>Benefits</th>\n",
       "      <th>TotalPay</th>\n",
       "      <th>TotalPayBenefits</th>\n",
       "      <th>Year</th>\n",
       "      <th>Notes</th>\n",
       "      <th>Agency</th>\n",
       "      <th>Status</th>\n",
       "    </tr>\n",
       "  </thead>\n",
       "  <tbody>\n",
       "    <tr>\n",
       "      <th>0</th>\n",
       "      <td>1</td>\n",
       "      <td>NATHANIEL FORD</td>\n",
       "      <td>GENERAL MANAGER-METROPOLITAN TRANSIT AUTHORITY</td>\n",
       "      <td>167411.18</td>\n",
       "      <td>0.00</td>\n",
       "      <td>400184.25</td>\n",
       "      <td>NaN</td>\n",
       "      <td>567595.43</td>\n",
       "      <td>567595.43</td>\n",
       "      <td>2011</td>\n",
       "      <td>NaN</td>\n",
       "      <td>San Francisco</td>\n",
       "      <td>NaN</td>\n",
       "    </tr>\n",
       "    <tr>\n",
       "      <th>1</th>\n",
       "      <td>2</td>\n",
       "      <td>GARY JIMENEZ</td>\n",
       "      <td>CAPTAIN III (POLICE DEPARTMENT)</td>\n",
       "      <td>155966.02</td>\n",
       "      <td>245131.88</td>\n",
       "      <td>137811.38</td>\n",
       "      <td>NaN</td>\n",
       "      <td>538909.28</td>\n",
       "      <td>538909.28</td>\n",
       "      <td>2011</td>\n",
       "      <td>NaN</td>\n",
       "      <td>San Francisco</td>\n",
       "      <td>NaN</td>\n",
       "    </tr>\n",
       "  </tbody>\n",
       "</table>\n",
       "</div>"
      ],
      "text/plain": [
       "   Id    EmployeeName                                        JobTitle  \\\n",
       "0   1  NATHANIEL FORD  GENERAL MANAGER-METROPOLITAN TRANSIT AUTHORITY   \n",
       "1   2    GARY JIMENEZ                 CAPTAIN III (POLICE DEPARTMENT)   \n",
       "\n",
       "     BasePay  OvertimePay   OtherPay  Benefits   TotalPay  TotalPayBenefits  \\\n",
       "0  167411.18         0.00  400184.25       NaN  567595.43         567595.43   \n",
       "1  155966.02    245131.88  137811.38       NaN  538909.28         538909.28   \n",
       "\n",
       "   Year  Notes         Agency  Status  \n",
       "0  2011    NaN  San Francisco     NaN  \n",
       "1  2011    NaN  San Francisco     NaN  "
      ]
     },
     "execution_count": 2,
     "metadata": {},
     "output_type": "execute_result"
    }
   ],
   "source": [
    "df = pd.read_csv('Salaries.csv')\n",
    "df.head(2)"
   ]
  },
  {
   "cell_type": "code",
   "execution_count": 79,
   "metadata": {},
   "outputs": [
    {
     "data": {
      "text/plain": [
       "67669.0"
      ]
     },
     "execution_count": 79,
     "metadata": {},
     "output_type": "execute_result"
    }
   ],
   "source": [
    "# nomor 1\n",
    "df[df['Year'] == 2013]['BasePay'].median()"
   ]
  },
  {
   "cell_type": "code",
   "execution_count": 3,
   "metadata": {},
   "outputs": [
    {
     "data": {
      "text/plain": [
       "3505.4212505574646"
      ]
     },
     "execution_count": 3,
     "metadata": {},
     "output_type": "execute_result"
    }
   ],
   "source": [
    "# nomor 2\n",
    "df[df['Year'] == 2014]['OtherPay'].mean()"
   ]
  },
  {
   "cell_type": "code",
   "execution_count": 83,
   "metadata": {},
   "outputs": [
    {
     "data": {
      "text/plain": [
       "36934.831982886295"
      ]
     },
     "execution_count": 83,
     "metadata": {},
     "output_type": "execute_result"
    }
   ],
   "source": [
    "# nomor 3\n",
    "df[(df['Year']==2014) & (df['TotalPay'] > df['TotalPay'].mean())]['Benefits'].mean()"
   ]
  },
  {
   "cell_type": "code",
   "execution_count": 15,
   "metadata": {},
   "outputs": [
    {
     "data": {
      "text/plain": [
       "30035.249899362447"
      ]
     },
     "execution_count": 15,
     "metadata": {},
     "output_type": "execute_result"
    }
   ],
   "source": [
    "# nomor 4\n",
    "(df['TotalPay'][df[\"JobTitle\"]=='Transit Operator']).std()"
   ]
  },
  {
   "cell_type": "code",
   "execution_count": 19,
   "metadata": {},
   "outputs": [
    {
     "data": {
      "text/html": [
       "<div>\n",
       "<style scoped>\n",
       "    .dataframe tbody tr th:only-of-type {\n",
       "        vertical-align: middle;\n",
       "    }\n",
       "\n",
       "    .dataframe tbody tr th {\n",
       "        vertical-align: top;\n",
       "    }\n",
       "\n",
       "    .dataframe thead th {\n",
       "        text-align: right;\n",
       "    }\n",
       "</style>\n",
       "<table border=\"1\" class=\"dataframe\">\n",
       "  <thead>\n",
       "    <tr style=\"text-align: right;\">\n",
       "      <th></th>\n",
       "      <th>EmployeeName</th>\n",
       "      <th>BasePay</th>\n",
       "    </tr>\n",
       "  </thead>\n",
       "  <tbody>\n",
       "    <tr>\n",
       "      <th>39881</th>\n",
       "      <td>Christian Kitchin</td>\n",
       "      <td>133932.19</td>\n",
       "    </tr>\n",
       "    <tr>\n",
       "      <th>41793</th>\n",
       "      <td>Laurie Towns</td>\n",
       "      <td>135691.93</td>\n",
       "    </tr>\n",
       "    <tr>\n",
       "      <th>42130</th>\n",
       "      <td>Leah Custis</td>\n",
       "      <td>127700.35</td>\n",
       "    </tr>\n",
       "    <tr>\n",
       "      <th>42394</th>\n",
       "      <td>Jennifer Chiu</td>\n",
       "      <td>124073.96</td>\n",
       "    </tr>\n",
       "    <tr>\n",
       "      <th>42535</th>\n",
       "      <td>Genevieve Hamer</td>\n",
       "      <td>128163.62</td>\n",
       "    </tr>\n",
       "  </tbody>\n",
       "</table>\n",
       "</div>"
      ],
      "text/plain": [
       "            EmployeeName    BasePay\n",
       "39881  Christian Kitchin  133932.19\n",
       "41793       Laurie Towns  135691.93\n",
       "42130        Leah Custis  127700.35\n",
       "42394      Jennifer Chiu  124073.96\n",
       "42535    Genevieve Hamer  128163.62"
      ]
     },
     "execution_count": 19,
     "metadata": {},
     "output_type": "execute_result"
    }
   ],
   "source": [
    "# nomor 5\n",
    "df[(df['JobTitle']=='Special Nurse') & (df['BasePay'] > df['BasePay'].mean())][['EmployeeName', 'BasePay']].head(5)"
   ]
  },
  {
   "cell_type": "code",
   "execution_count": 24,
   "metadata": {},
   "outputs": [
    {
     "name": "stderr",
     "output_type": "stream",
     "text": [
      "<ipython-input-24-ab820d74385d>:2: FutureWarning: Indexing with multiple keys (implicitly converted to a tuple of keys) will be deprecated, use a list instead.\n",
      "  df.groupby('JobTitle')['JobTitle','TotalPay'].mean().sort_values('TotalPay', ascending=False).head()\n"
     ]
    },
    {
     "data": {
      "text/html": [
       "<div>\n",
       "<style scoped>\n",
       "    .dataframe tbody tr th:only-of-type {\n",
       "        vertical-align: middle;\n",
       "    }\n",
       "\n",
       "    .dataframe tbody tr th {\n",
       "        vertical-align: top;\n",
       "    }\n",
       "\n",
       "    .dataframe thead th {\n",
       "        text-align: right;\n",
       "    }\n",
       "</style>\n",
       "<table border=\"1\" class=\"dataframe\">\n",
       "  <thead>\n",
       "    <tr style=\"text-align: right;\">\n",
       "      <th></th>\n",
       "      <th>TotalPay</th>\n",
       "    </tr>\n",
       "    <tr>\n",
       "      <th>JobTitle</th>\n",
       "      <th></th>\n",
       "    </tr>\n",
       "  </thead>\n",
       "  <tbody>\n",
       "    <tr>\n",
       "      <th>GENERAL MANAGER-METROPOLITAN TRANSIT AUTHORITY</th>\n",
       "      <td>399211.275000</td>\n",
       "    </tr>\n",
       "    <tr>\n",
       "      <th>Chief Investment Officer</th>\n",
       "      <td>339653.700000</td>\n",
       "    </tr>\n",
       "    <tr>\n",
       "      <th>Chief of Police</th>\n",
       "      <td>329183.646667</td>\n",
       "    </tr>\n",
       "    <tr>\n",
       "      <th>Chief, Fire Department</th>\n",
       "      <td>325971.683333</td>\n",
       "    </tr>\n",
       "    <tr>\n",
       "      <th>DEPUTY DIRECTOR OF INVESTMENTS</th>\n",
       "      <td>307899.460000</td>\n",
       "    </tr>\n",
       "  </tbody>\n",
       "</table>\n",
       "</div>"
      ],
      "text/plain": [
       "                                                     TotalPay\n",
       "JobTitle                                                     \n",
       "GENERAL MANAGER-METROPOLITAN TRANSIT AUTHORITY  399211.275000\n",
       "Chief Investment Officer                        339653.700000\n",
       "Chief of Police                                 329183.646667\n",
       "Chief, Fire Department                          325971.683333\n",
       "DEPUTY DIRECTOR OF INVESTMENTS                  307899.460000"
      ]
     },
     "execution_count": 24,
     "metadata": {},
     "output_type": "execute_result"
    }
   ],
   "source": [
    "# nomor 6: Sebutkan 5 profesi (JobTitle) dengan rata-rata gaji tertinggi (TotalPay)?\n",
    "df.groupby('JobTitle')['JobTitle','TotalPay'].mean().sort_values('TotalPay', ascending=False).head()"
   ]
  },
  {
   "cell_type": "code",
   "execution_count": 26,
   "metadata": {},
   "outputs": [
    {
     "data": {
      "text/plain": [
       "45111291.10909389"
      ]
     },
     "execution_count": 26,
     "metadata": {},
     "output_type": "execute_result"
    }
   ],
   "source": [
    "# nomor 7: Berapa nilai variance BasePay karyawan Public Svc Aide-Public Works di tahun 2014?\n",
    "df[(df['Year'] == 2014) & (df['JobTitle'].str.lower() == 'public svc aide-public works')]['BasePay'].var()"
   ]
  },
  {
   "cell_type": "code",
   "execution_count": 36,
   "metadata": {},
   "outputs": [
    {
     "name": "stderr",
     "output_type": "stream",
     "text": [
      "<ipython-input-36-49f60f2d192e>:2: UserWarning: Boolean Series key will be reindexed to match DataFrame index.\n",
      "  df.sort_values(by='TotalPay', ascending=True)[(df['JobTitle'] == 'Police Officer 3') & df['TotalPay'] > 0][['EmployeeName','JobTitle','TotalPay']].head(5)\n"
     ]
    },
    {
     "data": {
      "text/html": [
       "<div>\n",
       "<style scoped>\n",
       "    .dataframe tbody tr th:only-of-type {\n",
       "        vertical-align: middle;\n",
       "    }\n",
       "\n",
       "    .dataframe tbody tr th {\n",
       "        vertical-align: top;\n",
       "    }\n",
       "\n",
       "    .dataframe thead th {\n",
       "        text-align: right;\n",
       "    }\n",
       "</style>\n",
       "<table border=\"1\" class=\"dataframe\">\n",
       "  <thead>\n",
       "    <tr style=\"text-align: right;\">\n",
       "      <th></th>\n",
       "      <th>EmployeeName</th>\n",
       "      <th>JobTitle</th>\n",
       "      <th>TotalPay</th>\n",
       "    </tr>\n",
       "  </thead>\n",
       "  <tbody>\n",
       "    <tr>\n",
       "      <th>72907</th>\n",
       "      <td>William Pyne</td>\n",
       "      <td>Police Officer 3</td>\n",
       "      <td>30.78</td>\n",
       "    </tr>\n",
       "    <tr>\n",
       "      <th>72895</th>\n",
       "      <td>Anthony Nelson</td>\n",
       "      <td>Police Officer 3</td>\n",
       "      <td>38.11</td>\n",
       "    </tr>\n",
       "    <tr>\n",
       "      <th>72867</th>\n",
       "      <td>Richard Sheehan</td>\n",
       "      <td>Police Officer 3</td>\n",
       "      <td>60.09</td>\n",
       "    </tr>\n",
       "    <tr>\n",
       "      <th>72864</th>\n",
       "      <td>Robert Wood</td>\n",
       "      <td>Police Officer 3</td>\n",
       "      <td>63.02</td>\n",
       "    </tr>\n",
       "    <tr>\n",
       "      <th>72855</th>\n",
       "      <td>Richard Vanwinkle</td>\n",
       "      <td>Police Officer 3</td>\n",
       "      <td>67.42</td>\n",
       "    </tr>\n",
       "  </tbody>\n",
       "</table>\n",
       "</div>"
      ],
      "text/plain": [
       "            EmployeeName          JobTitle  TotalPay\n",
       "72907       William Pyne  Police Officer 3     30.78\n",
       "72895     Anthony Nelson  Police Officer 3     38.11\n",
       "72867    Richard Sheehan  Police Officer 3     60.09\n",
       "72864        Robert Wood  Police Officer 3     63.02\n",
       "72855  Richard Vanwinkle  Police Officer 3     67.42"
      ]
     },
     "execution_count": 36,
     "metadata": {},
     "output_type": "execute_result"
    }
   ],
   "source": [
    "# nomor 8: Siapa 5 orang yang berprofesi Police Officer 3 dengan TotalPay terendah?\n",
    "df.sort_values(by='TotalPay', ascending=True)[(df['JobTitle'] == 'Police Officer 3') & df['TotalPay'] > 0][['EmployeeName','JobTitle','TotalPay']].head(5)"
   ]
  },
  {
   "cell_type": "code",
   "execution_count": 38,
   "metadata": {},
   "outputs": [
    {
     "data": {
      "text/html": [
       "<div>\n",
       "<style scoped>\n",
       "    .dataframe tbody tr th:only-of-type {\n",
       "        vertical-align: middle;\n",
       "    }\n",
       "\n",
       "    .dataframe tbody tr th {\n",
       "        vertical-align: top;\n",
       "    }\n",
       "\n",
       "    .dataframe thead th {\n",
       "        text-align: right;\n",
       "    }\n",
       "</style>\n",
       "<table border=\"1\" class=\"dataframe\">\n",
       "  <thead>\n",
       "    <tr style=\"text-align: right;\">\n",
       "      <th></th>\n",
       "      <th>EmployeeName</th>\n",
       "      <th>TotalPay</th>\n",
       "    </tr>\n",
       "  </thead>\n",
       "  <tbody>\n",
       "    <tr>\n",
       "      <th>72907</th>\n",
       "      <td>William Pyne</td>\n",
       "      <td>30.78</td>\n",
       "    </tr>\n",
       "    <tr>\n",
       "      <th>72895</th>\n",
       "      <td>Anthony Nelson</td>\n",
       "      <td>38.11</td>\n",
       "    </tr>\n",
       "    <tr>\n",
       "      <th>72867</th>\n",
       "      <td>Richard Sheehan</td>\n",
       "      <td>60.09</td>\n",
       "    </tr>\n",
       "    <tr>\n",
       "      <th>72864</th>\n",
       "      <td>Robert Wood</td>\n",
       "      <td>63.02</td>\n",
       "    </tr>\n",
       "    <tr>\n",
       "      <th>72855</th>\n",
       "      <td>Richard Vanwinkle</td>\n",
       "      <td>67.42</td>\n",
       "    </tr>\n",
       "  </tbody>\n",
       "</table>\n",
       "</div>"
      ],
      "text/plain": [
       "            EmployeeName  TotalPay\n",
       "72907       William Pyne     30.78\n",
       "72895     Anthony Nelson     38.11\n",
       "72867    Richard Sheehan     60.09\n",
       "72864        Robert Wood     63.02\n",
       "72855  Richard Vanwinkle     67.42"
      ]
     },
     "execution_count": 38,
     "metadata": {},
     "output_type": "execute_result"
    }
   ],
   "source": [
    "df[(df['JobTitle'] == 'Police Officer 3') & (df['TotalPay'] > 0)].sort_values(by = 'TotalPay')[['EmployeeName', 'TotalPay']].head(5)"
   ]
  },
  {
   "cell_type": "code",
   "execution_count": 47,
   "metadata": {},
   "outputs": [
    {
     "data": {
      "text/plain": [
       "17852.79774406112"
      ]
     },
     "execution_count": 47,
     "metadata": {},
     "output_type": "execute_result"
    }
   ],
   "source": [
    "# nomor 9: Berapa standart deviasi BasePay karyawan Registered Nurse di tahun 2012 yang Benefits-nya di atas rata-rata?\n",
    "df[(df['JobTitle'].str.lower() == 'registered nurse') & (df['Benefits'] > df['Benefits'].mean()) & (df['Year']==2012)]['BasePay'].std()"
   ]
  },
  {
   "cell_type": "code",
   "execution_count": 51,
   "metadata": {},
   "outputs": [
    {
     "data": {
      "text/plain": [
       "0    Registered Nurse\n",
       "dtype: object"
      ]
     },
     "execution_count": 51,
     "metadata": {},
     "output_type": "execute_result"
    }
   ],
   "source": [
    "# nomor 10: Profesi apa yang paling banyak muncul (mode) dengan nilai BasePay dan Benefits-nya di atas rata-rata?\n",
    "df[(df['BasePay'] > df['BasePay'].mean()) & (df['Benefits'] > df['Benefits'].mean())]['JobTitle'].mode()"
   ]
  },
  {
   "cell_type": "markdown",
   "metadata": {},
   "source": [
    "<hr>\n",
    "\n",
    "## **Take Home Exercise**: Duplicate Statistic Module\n",
    "### ``Create your own function without importing packages/modules! ``\n",
    "\n",
    "#### 1. Mean\n",
    "#### 2. Median\n",
    "#### 3. Modus\n",
    "#### 4. Standart Deviation\n",
    "#### 5. Variance"
   ]
  },
  {
   "cell_type": "code",
   "execution_count": 12,
   "metadata": {},
   "outputs": [],
   "source": [
    "def describe(yourList):    \n",
    "    # mean\n",
    "    total = 0\n",
    "    for i in range(len(yourList)):\n",
    "        total += yourList[i]\n",
    "    mean = total / len(yourList)\n",
    "    \n",
    "    # median\n",
    "    yourList.sort()\n",
    "    if len(yourList) % 2 == 0:\n",
    "        titik = len(yourList) / 2\n",
    "        median = (yourList[int(titik)-1] + yourList[int(titik)]) / 2\n",
    "    if len(yourList) % 2 == 1:\n",
    "        median = yourList[int(len(yourList)/2)]\n",
    "    \n",
    "    # Q1\n",
    "    Q1List = yourList[yourList.index(min(yourList)) : yourList.index(round(median))] \n",
    "    if len(Q1List) % 2 == 0:\n",
    "        titik_Q1 = len(Q1List) / 2\n",
    "        Q1 = (yourList[int(titik_Q1)-1] + yourList[int(titik_Q1)]) / 2\n",
    "    else:\n",
    "        Q1 = Q1List[int(len(Q1List) / 2)]\n",
    "    \n",
    "    # Q3\n",
    "    Q3List = yourList[yourList.index(round(median)):] \n",
    "    if len(Q3List) % 2 == 0:\n",
    "        titik_Q3 = len(Q3List) / 2\n",
    "        Q3 = (yourList[int(titik_Q3)-1] + yourList[int(titik_Q3)]) / 2\n",
    "    else:\n",
    "        Q3 = Q3List[int(len(Q3List) / 2)]\n",
    "    \n",
    "    # modus\n",
    "    hitung = []\n",
    "    mode = []\n",
    "    for i in range(len(yourList)):\n",
    "        hitung.append(yourList.count(yourList[i]))\n",
    "    terbesar = max(hitung)\n",
    "    mode = yourList[hitung.index(terbesar)]\n",
    "    \n",
    "    # standart deviasi\n",
    "    newList = []\n",
    "    for j in range(len(yourList)):\n",
    "        newList.append((yourList[j]-mean)**2)\n",
    "    total2 = 0\n",
    "    for k in range(len(newList)):\n",
    "        total2 += newList[k]\n",
    "    std = (total2 / (len(yourList)-1)) ** 0.5\n",
    "    \n",
    "    # varians\n",
    "    variance = std ** 2\n",
    "            \n",
    "    print(\"Jumlah data = \", len(yourList))\n",
    "    print(\"Nilai minimum = \", min(yourList))\n",
    "    print(\"Nilai maksimum = \", max(yourList))    \n",
    "    print(\"Nilai rata-rata (mean) = \", mean)\n",
    "    print(\"Nilai tengah (median/Q2) = {}\".format(median))\n",
    "    print(\"Nilai Q1: {} dan Q3: {}.\".format(Q1, Q3))\n",
    "    print(\"Nilai yang sering muncul (mode) = {}\".format(mode))\n",
    "    print(\"Nilai standart deviasi = \", std)\n",
    "    print(\"Nilai varians = \", variance)"
   ]
  },
  {
   "cell_type": "code",
   "execution_count": 54,
   "metadata": {},
   "outputs": [
    {
     "name": "stdout",
     "output_type": "stream",
     "text": [
      "Jumlah data =  32\n",
      "Nilai minimum =  1\n",
      "Nilai maksimum =  9\n",
      "Nilai rata-rata (mean) =  5.1875\n",
      "Nilai tengah (median/Q2) = 6.0\n",
      "Nilai Q1: 3 dan Q3: 7.\n",
      "Nilai yang sering muncul (mode) = 6\n",
      "Nilai standart deviasi =  2.4683480174975068\n",
      "Nilai varians =  6.092741935483872\n"
     ]
    }
   ],
   "source": [
    "contoh_list = [1,5,6,7,8,3,4,5,6,7,1,2,3,4,6,1,2,3,9,8,9,7,8,6,7,6,6,7,3,4,9,3]\n",
    "describe(contoh_list)"
   ]
  },
  {
   "cell_type": "markdown",
   "metadata": {},
   "source": [
    "<hr>\n",
    "\n",
    "### **Student Code**"
   ]
  },
  {
   "cell_type": "code",
   "execution_count": 57,
   "metadata": {},
   "outputs": [
    {
     "name": "stdout",
     "output_type": "stream",
     "text": [
      "[6]\n"
     ]
    }
   ],
   "source": [
    "# MODE: nilai yang paling banyak muncul\n",
    "def modus(x):\n",
    "    x.sort()\n",
    "    b=x[0]\n",
    "    d=[]\n",
    "    d.append([x[0],x.count(x[0])])\n",
    "    for i in range(1,len(x)):\n",
    "        if x[i]!=b:\n",
    "            b=x[i]\n",
    "            d.append([x[i],x.count(x[i])])\n",
    "    for i in range (len(d)):\n",
    "        for j in range (i,len(d)):\n",
    "            if (d[i][1]<d[j][1]):\n",
    "                y=d[i]\n",
    "                d[i]=d[j]\n",
    "                d[j]=y\n",
    "    z=[d[0][0]]\n",
    "    for i in range (1,len(d)):\n",
    "        if d [i][1]>=d[0][1]:\n",
    "            z.append(d [i][0])\n",
    "    return z\n",
    "    \n",
    "print (modus(contoh_list))"
   ]
  },
  {
   "cell_type": "code",
   "execution_count": 61,
   "metadata": {},
   "outputs": [
    {
     "data": {
      "text/plain": [
       "6"
      ]
     },
     "execution_count": 61,
     "metadata": {},
     "output_type": "execute_result"
    }
   ],
   "source": [
    "def unimodus(x):\n",
    "    a=0\n",
    "    b=0\n",
    "    for i in x:\n",
    "        if x.count(i)>a:\n",
    "            a= x.count(i)\n",
    "            b=i\n",
    "    return b\n",
    "unimodus(contoh_list)"
   ]
  },
  {
   "cell_type": "code",
   "execution_count": 60,
   "metadata": {},
   "outputs": [
    {
     "data": {
      "text/plain": [
       "2.429473965697101"
      ]
     },
     "execution_count": 60,
     "metadata": {},
     "output_type": "execute_result"
    }
   ],
   "source": [
    "# STANDAR DEVIASI= setiap data dikurangi rata-rata, kemudian dipangkat, dibagi jumlah data, kemudian diakar\n",
    "def rata2(YourList):\n",
    "    jumlah = 0\n",
    "    for i in YourList:\n",
    "        jumlah += i\n",
    "\n",
    "    rata2 = jumlah / len(YourList)\n",
    "    return rata2\n",
    "\n",
    "def stdev(YourList):\n",
    "    \n",
    "    jumlah = 0\n",
    "    bagi = len(YourList)\n",
    "    \n",
    "    for i in YourList:\n",
    "        y = (i - rata2(YourList))**2\n",
    "        jumlah += y\n",
    "    variance = jumlah/bagi\n",
    "    return variance**(0.5)\n",
    "\n",
    "stdev(contoh_list)"
   ]
  },
  {
   "cell_type": "code",
   "execution_count": 59,
   "metadata": {},
   "outputs": [
    {
     "data": {
      "text/plain": [
       "6.092741935483871"
      ]
     },
     "execution_count": 59,
     "metadata": {},
     "output_type": "execute_result"
    }
   ],
   "source": [
    "def variansi(data):\n",
    "    x = sum(data)/len(data)\n",
    "    y = []\n",
    "    for i in data:\n",
    "        z = (i - x)**2\n",
    "        y.append(z)\n",
    "        a = sum(y)/(len(data)-1)\n",
    "    return a\n",
    "\n",
    "variansi(contoh_list)"
   ]
  },
  {
   "cell_type": "markdown",
   "metadata": {},
   "source": [
    "<hr>\n",
    "\n",
    "### **Reference**:\n",
    "- George Seif, \"The 5 Basic Statistics Concepts Data Scientists Need to Know\", https://towardsdatascience.com/the-5-basic-statistics-concepts-data-scientists-need-to-know-2c96740377ae\n",
    "- Diogo Menezes Borges, \"Introduction to Statistics for Data Science\", https://www.kdnuggets.com/2018/12/introduction-statistics-data-science.html\n",
    "-  DataFlair Team, \"Python Descriptive Statistics – Measuring Central Tendency & Variability\", https://data-flair.training/blogs/python-descriptive-statistics/\n",
    "- Gaël Varoquaux, \"3.1. Statistics in Python\", https://scipy-lectures.org/packages/statistics/index.html\n",
    "- Mirko Stojiljković , \"Python Statistics Fundamentals: How to Describe Your Data\", https://realpython.com/python-statistics/\n",
    "- Karlijn Willems, \"40+ Python Statistics For Data Science Resources\", https://www.datacamp.com/community/tutorials/python-statistics-data-science"
   ]
  }
 ],
 "metadata": {
  "kernelspec": {
   "display_name": "Python 3.8.1 32-bit",
   "language": "python",
   "name": "python38132bitf9f79e71b62e4503b25567c1d3914456"
  },
  "language_info": {
   "codemirror_mode": {
    "name": "ipython",
    "version": 3
   },
   "file_extension": ".py",
   "mimetype": "text/x-python",
   "name": "python",
   "nbconvert_exporter": "python",
   "pygments_lexer": "ipython3",
   "version": "3.8.1"
  }
 },
 "nbformat": 4,
 "nbformat_minor": 4
}
